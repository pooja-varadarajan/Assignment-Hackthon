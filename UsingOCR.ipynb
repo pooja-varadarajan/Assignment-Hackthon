{
  "nbformat": 4,
  "nbformat_minor": 0,
  "metadata": {
    "colab": {
      "provenance": [],
      "mount_file_id": "138vGbsqLrOHooEtCww5V9Ibw2TVfE3a-",
      "authorship_tag": "ABX9TyPYXXO83nhzeD0vd+kTcobj",
      "include_colab_link": true
    },
    "kernelspec": {
      "name": "python3",
      "display_name": "Python 3"
    },
    "language_info": {
      "name": "python"
    }
  },
  "cells": [
    {
      "cell_type": "markdown",
      "metadata": {
        "id": "view-in-github",
        "colab_type": "text"
      },
      "source": [
        "<a href=\"https://colab.research.google.com/github/pooja-varadarajan/Assignment-Hackthon/blob/main/UsingOCR.ipynb\" target=\"_parent\"><img src=\"https://colab.research.google.com/assets/colab-badge.svg\" alt=\"Open In Colab\"/></a>"
      ]
    },
    {
      "cell_type": "code",
      "execution_count": 1,
      "metadata": {
        "colab": {
          "base_uri": "https://localhost:8080/"
        },
        "id": "U3oMytSIW5HZ",
        "outputId": "0d18c372-96d2-41af-84a0-1804ae48b9eb"
      },
      "outputs": [
        {
          "output_type": "stream",
          "name": "stdout",
          "text": [
            "Mounted at /content/gdrive\n"
          ]
        }
      ],
      "source": [
        "from google.colab import drive\n",
        "drive.mount('/content/gdrive')"
      ]
    },
    {
      "cell_type": "code",
      "source": [],
      "metadata": {
        "id": "s6hliawwkv9h"
      },
      "execution_count": null,
      "outputs": []
    },
    {
      "cell_type": "code",
      "source": [
        "!pip install easyocr"
      ],
      "metadata": {
        "colab": {
          "base_uri": "https://localhost:8080/"
        },
        "id": "ftlhsW9PYD8B",
        "outputId": "8a1036f4-b23b-4277-ffe9-0a2288d802d4"
      },
      "execution_count": 7,
      "outputs": [
        {
          "output_type": "stream",
          "name": "stdout",
          "text": [
            "Looking in indexes: https://pypi.org/simple, https://us-python.pkg.dev/colab-wheels/public/simple/\n",
            "Collecting easyocr\n",
            "  Downloading easyocr-1.6.2-py3-none-any.whl (2.9 MB)\n",
            "\u001b[2K     \u001b[90m━━━━━━━━━━━━━━━━━━━━━━━━━━━━━━━━━━━━━━━━\u001b[0m \u001b[32m2.9/2.9 MB\u001b[0m \u001b[31m24.3 MB/s\u001b[0m eta \u001b[36m0:00:00\u001b[0m\n",
            "\u001b[?25hCollecting python-bidi\n",
            "  Downloading python_bidi-0.4.2-py2.py3-none-any.whl (30 kB)\n",
            "Requirement already satisfied: Shapely in /usr/local/lib/python3.8/dist-packages (from easyocr) (2.0.1)\n",
            "Requirement already satisfied: Pillow in /usr/local/lib/python3.8/dist-packages (from easyocr) (8.4.0)\n",
            "Requirement already satisfied: torch in /usr/local/lib/python3.8/dist-packages (from easyocr) (1.13.1+cu116)\n",
            "Requirement already satisfied: torchvision>=0.5 in /usr/local/lib/python3.8/dist-packages (from easyocr) (0.14.1+cu116)\n",
            "Requirement already satisfied: scipy in /usr/local/lib/python3.8/dist-packages (from easyocr) (1.7.3)\n",
            "Collecting ninja\n",
            "  Downloading ninja-1.11.1-py2.py3-none-manylinux_2_12_x86_64.manylinux2010_x86_64.whl (145 kB)\n",
            "\u001b[2K     \u001b[90m━━━━━━━━━━━━━━━━━━━━━━━━━━━━━━━━━━━━━━\u001b[0m \u001b[32m146.0/146.0 KB\u001b[0m \u001b[31m16.3 MB/s\u001b[0m eta \u001b[36m0:00:00\u001b[0m\n",
            "\u001b[?25hRequirement already satisfied: numpy in /usr/local/lib/python3.8/dist-packages (from easyocr) (1.22.4)\n",
            "Requirement already satisfied: PyYAML in /usr/local/lib/python3.8/dist-packages (from easyocr) (6.0)\n",
            "Requirement already satisfied: scikit-image in /usr/local/lib/python3.8/dist-packages (from easyocr) (0.18.3)\n",
            "Collecting opencv-python-headless<=4.5.4.60\n",
            "  Downloading opencv_python_headless-4.5.4.60-cp38-cp38-manylinux_2_17_x86_64.manylinux2014_x86_64.whl (47.6 MB)\n",
            "\u001b[2K     \u001b[90m━━━━━━━━━━━━━━━━━━━━━━━━━━━━━━━━━━━━━━━━\u001b[0m \u001b[32m47.6/47.6 MB\u001b[0m \u001b[31m13.3 MB/s\u001b[0m eta \u001b[36m0:00:00\u001b[0m\n",
            "\u001b[?25hCollecting pyclipper\n",
            "  Downloading pyclipper-1.3.0.post4-cp38-cp38-manylinux_2_5_x86_64.manylinux1_x86_64.whl (619 kB)\n",
            "\u001b[2K     \u001b[90m━━━━━━━━━━━━━━━━━━━━━━━━━━━━━━━━━━━━━━\u001b[0m \u001b[32m619.2/619.2 KB\u001b[0m \u001b[31m49.3 MB/s\u001b[0m eta \u001b[36m0:00:00\u001b[0m\n",
            "\u001b[?25hRequirement already satisfied: typing-extensions in /usr/local/lib/python3.8/dist-packages (from torchvision>=0.5->easyocr) (4.5.0)\n",
            "Requirement already satisfied: requests in /usr/local/lib/python3.8/dist-packages (from torchvision>=0.5->easyocr) (2.25.1)\n",
            "Requirement already satisfied: six in /usr/local/lib/python3.8/dist-packages (from python-bidi->easyocr) (1.15.0)\n",
            "Requirement already satisfied: imageio>=2.3.0 in /usr/local/lib/python3.8/dist-packages (from scikit-image->easyocr) (2.9.0)\n",
            "Requirement already satisfied: tifffile>=2019.7.26 in /usr/local/lib/python3.8/dist-packages (from scikit-image->easyocr) (2023.2.3)\n",
            "Requirement already satisfied: networkx>=2.0 in /usr/local/lib/python3.8/dist-packages (from scikit-image->easyocr) (3.0)\n",
            "Requirement already satisfied: PyWavelets>=1.1.1 in /usr/local/lib/python3.8/dist-packages (from scikit-image->easyocr) (1.4.1)\n",
            "Requirement already satisfied: matplotlib!=3.0.0,>=2.0.0 in /usr/local/lib/python3.8/dist-packages (from scikit-image->easyocr) (3.5.3)\n",
            "Requirement already satisfied: packaging>=20.0 in /usr/local/lib/python3.8/dist-packages (from matplotlib!=3.0.0,>=2.0.0->scikit-image->easyocr) (23.0)\n",
            "Requirement already satisfied: kiwisolver>=1.0.1 in /usr/local/lib/python3.8/dist-packages (from matplotlib!=3.0.0,>=2.0.0->scikit-image->easyocr) (1.4.4)\n",
            "Requirement already satisfied: fonttools>=4.22.0 in /usr/local/lib/python3.8/dist-packages (from matplotlib!=3.0.0,>=2.0.0->scikit-image->easyocr) (4.38.0)\n",
            "Requirement already satisfied: cycler>=0.10 in /usr/local/lib/python3.8/dist-packages (from matplotlib!=3.0.0,>=2.0.0->scikit-image->easyocr) (0.11.0)\n",
            "Requirement already satisfied: pyparsing>=2.2.1 in /usr/local/lib/python3.8/dist-packages (from matplotlib!=3.0.0,>=2.0.0->scikit-image->easyocr) (3.0.9)\n",
            "Requirement already satisfied: python-dateutil>=2.7 in /usr/local/lib/python3.8/dist-packages (from matplotlib!=3.0.0,>=2.0.0->scikit-image->easyocr) (2.8.2)\n",
            "Requirement already satisfied: idna<3,>=2.5 in /usr/local/lib/python3.8/dist-packages (from requests->torchvision>=0.5->easyocr) (2.10)\n",
            "Requirement already satisfied: certifi>=2017.4.17 in /usr/local/lib/python3.8/dist-packages (from requests->torchvision>=0.5->easyocr) (2022.12.7)\n",
            "Requirement already satisfied: urllib3<1.27,>=1.21.1 in /usr/local/lib/python3.8/dist-packages (from requests->torchvision>=0.5->easyocr) (1.24.3)\n",
            "Requirement already satisfied: chardet<5,>=3.0.2 in /usr/local/lib/python3.8/dist-packages (from requests->torchvision>=0.5->easyocr) (4.0.0)\n",
            "Installing collected packages: pyclipper, ninja, python-bidi, opencv-python-headless, easyocr\n",
            "  Attempting uninstall: opencv-python-headless\n",
            "    Found existing installation: opencv-python-headless 4.7.0.72\n",
            "    Uninstalling opencv-python-headless-4.7.0.72:\n",
            "      Successfully uninstalled opencv-python-headless-4.7.0.72\n",
            "Successfully installed easyocr-1.6.2 ninja-1.11.1 opencv-python-headless-4.5.4.60 pyclipper-1.3.0.post4 python-bidi-0.4.2\n"
          ]
        }
      ]
    },
    {
      "cell_type": "code",
      "source": [
        "import pandas as pd"
      ],
      "metadata": {
        "id": "_7dNaCAdeP8V"
      },
      "execution_count": 8,
      "outputs": []
    },
    {
      "cell_type": "code",
      "source": [],
      "metadata": {
        "id": "dVSDXAEGeVEo"
      },
      "execution_count": null,
      "outputs": []
    },
    {
      "cell_type": "code",
      "source": [
        "import easyocr"
      ],
      "metadata": {
        "id": "b26kQU0oYlqZ"
      },
      "execution_count": 9,
      "outputs": []
    },
    {
      "cell_type": "code",
      "source": [
        "reader = easyocr.Reader(['en'])"
      ],
      "metadata": {
        "colab": {
          "base_uri": "https://localhost:8080/"
        },
        "id": "sJxXbr05YNRE",
        "outputId": "3e242927-e65d-46e9-d4cb-15177f15c9c8"
      },
      "execution_count": 10,
      "outputs": [
        {
          "output_type": "stream",
          "name": "stderr",
          "text": [
            "WARNING:easyocr.easyocr:CUDA not available - defaulting to CPU. Note: This module is much faster with a GPU.\n",
            "WARNING:easyocr.easyocr:Downloading detection model, please wait. This may take several minutes depending upon your network connection.\n"
          ]
        },
        {
          "output_type": "stream",
          "name": "stdout",
          "text": [
            "Progress: |██████████████████████████████████████████████████| 100.0% Complete"
          ]
        },
        {
          "output_type": "stream",
          "name": "stderr",
          "text": [
            "WARNING:easyocr.easyocr:Downloading recognition model, please wait. This may take several minutes depending upon your network connection.\n"
          ]
        },
        {
          "output_type": "stream",
          "name": "stdout",
          "text": [
            "Progress: |██████████████████████████████████████████████████| 100.0% Complete"
          ]
        }
      ]
    },
    {
      "cell_type": "code",
      "source": [
        "results= reader.readtext('/content/drive/MyDrive/RAP hackathon/Orginal/email/doc_000042.png')"
      ],
      "metadata": {
        "id": "I-v0goCkYvPR"
      },
      "execution_count": 13,
      "outputs": []
    },
    {
      "cell_type": "code",
      "source": [
        "results"
      ],
      "metadata": {
        "colab": {
          "base_uri": "https://localhost:8080/"
        },
        "id": "9CdSBuZlZPjQ",
        "outputId": "b098d5dd-93f0-49d1-927e-f31d7ef92bbd"
      },
      "execution_count": 7,
      "outputs": [
        {
          "output_type": "execute_result",
          "data": {
            "text/plain": [
              "[([[111, 89], [157, 89], [157, 103], [111, 103]], 'From:', 0.9658448263270165),\n",
              " ([[163, 89], [251, 89], [251, 105], [163, 105]],\n",
              "  'Moskowitz,',\n",
              "  0.6068334328175639),\n",
              " ([[259, 89], [297, 89], [297, 105], [259, 105]], 'Seth', 0.9994122982025146),\n",
              " ([[147, 107], [217, 107], [217, 123], [147, 123]],\n",
              "  'Coggins,',\n",
              "  0.9982217593890788),\n",
              " ([[225, 105], [271, 105], [271, 121], [225, 121]],\n",
              "  'Chris',\n",
              "  0.9996527184158677),\n",
              " ([[113, 123], [139, 123], [139, 137], [113, 137]], 'CC:', 0.9925841660942919),\n",
              " ([[111, 141], [149, 141], [149, 155], [111, 155]],\n",
              "  'BCC :',\n",
              "  0.981574108552963),\n",
              " ([[113, 157], [183, 157], [183, 175], [113, 175]],\n",
              "  'Subject :',\n",
              "  0.8996329974697014),\n",
              " ([[191, 159], [227, 159], [227, 173], [191, 173]],\n",
              "  'Jane',\n",
              "  0.9999414086341858),\n",
              " ([[233, 159], [279, 159], [279, 175], [233, 175]],\n",
              "  'Brody',\n",
              "  0.9994771529330239),\n",
              " ([[285, 157], [357, 157], [357, 173], [285, 173]],\n",
              "  'Articles',\n",
              "  0.9977847142050557),\n",
              " ([[110, 173], [177, 173], [177, 191], [110, 191]],\n",
              "  'Primary',\n",
              "  0.9984685886049167),\n",
              " ([[181, 175], [227, 175], [227, 189], [181, 189]],\n",
              "  'Date:',\n",
              "  0.9884018419808085),\n",
              " ([[233, 175], [313, 175], [313, 189], [233, 189]],\n",
              "  '9/19/1995',\n",
              "  0.5675843507737189),\n",
              " ([[319, 175], [383, 175], [383, 191], [319, 191]],\n",
              "  '1:06: 48',\n",
              "  0.6193004704775447),\n",
              " ([[387, 175], [409, 175], [409, 189], [387, 189]], 'PM', 0.9993064176373664),\n",
              " ([[113, 193], [149, 193], [149, 207], [113, 207]],\n",
              "  'Last',\n",
              "  0.9978991746902466),\n",
              " ([[155, 191], [277, 191], [277, 207], [155, 207]],\n",
              "  'Modifiod Dato;',\n",
              "  0.5244346961288877),\n",
              " ([[285, 189], [381, 189], [381, 207], [285, 207]],\n",
              "  '2001-Nov-21',\n",
              "  0.9995705288240285),\n",
              " ([[387, 191], [459, 191], [459, 207], [387, 207]],\n",
              "  '16:30:11',\n",
              "  0.9736364665296728),\n",
              " ([[111, 209], [149, 209], [149, 225], [111, 225]],\n",
              "  'Last',\n",
              "  0.9531891942024231),\n",
              " ([[155, 209], [269, 209], [269, 225], [155, 225]],\n",
              "  'Touched Date:',\n",
              "  0.7315134582624873),\n",
              " ([[113, 227], [149, 227], [149, 241], [113, 241]],\n",
              "  'Sent',\n",
              "  0.9929196238517761),\n",
              " ([[155, 227], [201, 227], [201, 241], [155, 241]],\n",
              "  'Date:',\n",
              "  0.958068024915781),\n",
              " ([[217, 224], [383, 224], [383, 244], [217, 244]],\n",
              "  '995-Sep-19 13:06:48',\n",
              "  0.8060580795632172),\n",
              " ([[113, 243], [374, 243], [374, 261], [113, 261]],\n",
              "  'Received DateDate: 1995-Sep-19',\n",
              "  0.6651625844346889),\n",
              " ([[379, 243], [451, 243], [451, 259], [379, 259]],\n",
              "  '13:06:48',\n",
              "  0.6665478327587429),\n",
              " ([[111, 276], [211, 276], [211, 292], [111, 292]],\n",
              "  'Attachment:',\n",
              "  0.5840802751899768),\n",
              " ([[111, 293], [133, 293], [133, 313], [111, 313]], '09', 0.5855471889700349),\n",
              " ([[191, 297], [219, 297], [219, 315], [191, 315]],\n",
              "  '@0c',\n",
              "  0.16632997007170036),\n",
              " ([[113, 347], [159, 347], [159, 363], [113, 363]],\n",
              "  'Chris',\n",
              "  0.9990128705180218),\n",
              " ([[113, 381], [185, 381], [185, 397], [113, 397]],\n",
              "  'Atzached',\n",
              "  0.8512503286525154),\n",
              " ([[191, 383], [219, 383], [219, 397], [191, 397]], 'are', 0.9965662956237793),\n",
              " ([[225, 381], [253, 381], [253, 397], [225, 397]], 'the', 0.9924542166658475),\n",
              " ([[259, 383], [347, 383], [347, 399], [259, 399]],\n",
              "  'Jane Brody',\n",
              "  0.9514059317940319),\n",
              " ([[353, 383], [383, 383], [383, 397], [353, 397]], 'ETS', 0.9495520377246768),\n",
              " ([[387, 381], [571, 381], [571, 399], [387, 399]],\n",
              "  'articles Barry Miller',\n",
              "  0.7866359725843112),\n",
              " ([[113, 399], [169, 399], [169, 417], [113, 417]],\n",
              "  'pulled',\n",
              "  0.9959923647939571),\n",
              " ([[113, 433], [149, 433], [149, 449], [113, 449]], 'Seh', 0.8425291776657104),\n",
              " ([[687, 821], [703, 821], [703, 869], [687, 869]], '8', 0.912052974176337),\n",
              " ([[685, 873], [701, 873], [701, 913], [685, 913]], '2', 0.7625007232070438),\n",
              " ([[7, 955], [169, 955], [169, 973], [7, 973]],\n",
              "  'RJROOO0000545011941',\n",
              "  0.6516084811628753),\n",
              " ([[7, 971], [89, 971], [89, 991], [7, 991]],\n",
              "  '70056 2517',\n",
              "  0.7346466174972107),\n",
              " ([[139.06850713433477, 292.23016355523606],\n",
              "   [177.92112852882912, 297.4438838469179],\n",
              "   [175.93149286566523, 314.76983644476394],\n",
              "   [136.07887147117088, 309.5561161530821]],\n",
              "  '9SKR',\n",
              "  0.5190846920013428)]"
            ]
          },
          "metadata": {},
          "execution_count": 7
        }
      ]
    },
    {
      "cell_type": "code",
      "source": [
        "l=len(results)"
      ],
      "metadata": {
        "id": "iQF09Hm_bdqe"
      },
      "execution_count": 14,
      "outputs": []
    },
    {
      "cell_type": "code",
      "source": [
        "l\n"
      ],
      "metadata": {
        "colab": {
          "base_uri": "https://localhost:8080/"
        },
        "id": "zvxu-gbCbwZe",
        "outputId": "93c314c1-90aa-44f4-a4ea-41f1d759dad2"
      },
      "execution_count": 12,
      "outputs": [
        {
          "output_type": "execute_result",
          "data": {
            "text/plain": [
              "44"
            ]
          },
          "metadata": {},
          "execution_count": 12
        }
      ]
    },
    {
      "cell_type": "code",
      "source": [
        "for item in results:\n",
        "    print(item[1])"
      ],
      "metadata": {
        "colab": {
          "base_uri": "https://localhost:8080/"
        },
        "id": "N3pPLzqncpjO",
        "outputId": "98822d4a-3ae9-43ca-dde8-57111612cf74"
      },
      "execution_count": 13,
      "outputs": [
        {
          "output_type": "stream",
          "name": "stdout",
          "text": [
            "From:\n",
            "Moskowitz,\n",
            "Seth\n",
            "Coggins,\n",
            "Chris\n",
            "CC:\n",
            "BCC :\n",
            "Subject :\n",
            "Jane\n",
            "Brody\n",
            "Articles\n",
            "Primary\n",
            "Date:\n",
            "9/19/1995\n",
            "1:06: 48\n",
            "PM\n",
            "Last\n",
            "Modifiod Dato;\n",
            "2001-Nov-21\n",
            "16:30:11\n",
            "Last\n",
            "Touched Date:\n",
            "Sent\n",
            "Date:\n",
            "995-Sep-19 13:06:48\n",
            "Received DateDate: 1995-Sep-19\n",
            "13:06:48\n",
            "Attachment:\n",
            "09\n",
            "@0c\n",
            "Chris\n",
            "Atzached\n",
            "are\n",
            "the\n",
            "Jane Brody\n",
            "ETS\n",
            "articles Barry Miller\n",
            "pulled\n",
            "Seh\n",
            "8\n",
            "2\n",
            "RJROOO0000545011941\n",
            "70056 2517\n",
            "9SKR\n"
          ]
        }
      ]
    },
    {
      "cell_type": "code",
      "source": [
        "lis=[]\n",
        "for item in results:\n",
        "    lis.append(item[1])\n",
        "print(lis)"
      ],
      "metadata": {
        "colab": {
          "base_uri": "https://localhost:8080/"
        },
        "id": "M31tnCB_dJ8q",
        "outputId": "a562d020-4c1d-43cb-9cb8-619692517261"
      },
      "execution_count": 15,
      "outputs": [
        {
          "output_type": "stream",
          "name": "stdout",
          "text": [
            "['From:', 'Moskowitz,', 'Seth', 'Coggins,', 'Chris', 'CC:', 'BCC :', 'Subject :', 'Jane', 'Brody', 'Articles', 'Primary', 'Date:', '9/19/1995', '1:06: 48', 'PM', 'Last', 'Modifiod Dato;', '2001-Nov-21', '16:30:11', 'Last', 'Touched Date:', 'Sent', 'Date:', '995-Sep-19 13:06:48', 'Received DateDate: 1995-Sep-19', '13:06:48', 'Attachment:', '09', '@0c', 'Chris', 'Atzached', 'are', 'the', 'Jane Brody', 'ETS', 'articles Barry Miller', 'pulled', 'Seh', '8', '2', 'RJROOO0000545011941', '70056 2517', '9SKR']\n"
          ]
        }
      ]
    },
    {
      "cell_type": "code",
      "source": [
        "df=pd.DataFrame(lis,columns=['All_the_Words'])"
      ],
      "metadata": {
        "id": "fH1j9FgWeV5f"
      },
      "execution_count": 18,
      "outputs": []
    },
    {
      "cell_type": "code",
      "source": [
        "df\n"
      ],
      "metadata": {
        "colab": {
          "base_uri": "https://localhost:8080/",
          "height": 1000
        },
        "id": "hdYSuIJZiEBr",
        "outputId": "3fb73a37-d44f-421a-bbdf-83dbac6ebb3e"
      },
      "execution_count": 22,
      "outputs": [
        {
          "output_type": "execute_result",
          "data": {
            "text/plain": [
              "                     All_the_Words\n",
              "0                            From:\n",
              "1                       Moskowitz,\n",
              "2                             Seth\n",
              "3                         Coggins,\n",
              "4                            Chris\n",
              "5                              CC:\n",
              "6                            BCC :\n",
              "7                        Subject :\n",
              "8                             Jane\n",
              "9                            Brody\n",
              "10                        Articles\n",
              "11                         Primary\n",
              "12                           Date:\n",
              "13                       9/19/1995\n",
              "14                        1:06: 48\n",
              "15                              PM\n",
              "16                            Last\n",
              "17                  Modifiod Dato;\n",
              "18                     2001-Nov-21\n",
              "19                        16:30:11\n",
              "20                            Last\n",
              "21                   Touched Date:\n",
              "22                            Sent\n",
              "23                           Date:\n",
              "24             995-Sep-19 13:06:48\n",
              "25  Received DateDate: 1995-Sep-19\n",
              "26                        13:06:48\n",
              "27                     Attachment:\n",
              "28                              09\n",
              "29                             @0c\n",
              "30                           Chris\n",
              "31                        Atzached\n",
              "32                             are\n",
              "33                             the\n",
              "34                      Jane Brody\n",
              "35                             ETS\n",
              "36           articles Barry Miller\n",
              "37                          pulled\n",
              "38                             Seh\n",
              "39                               8\n",
              "40                               2\n",
              "41             RJROOO0000545011941\n",
              "42                      70056 2517\n",
              "43                            9SKR"
            ],
            "text/html": [
              "\n",
              "  <div id=\"df-b67aeb44-d23c-41bc-9c78-262b40c63d62\">\n",
              "    <div class=\"colab-df-container\">\n",
              "      <div>\n",
              "<style scoped>\n",
              "    .dataframe tbody tr th:only-of-type {\n",
              "        vertical-align: middle;\n",
              "    }\n",
              "\n",
              "    .dataframe tbody tr th {\n",
              "        vertical-align: top;\n",
              "    }\n",
              "\n",
              "    .dataframe thead th {\n",
              "        text-align: right;\n",
              "    }\n",
              "</style>\n",
              "<table border=\"1\" class=\"dataframe\">\n",
              "  <thead>\n",
              "    <tr style=\"text-align: right;\">\n",
              "      <th></th>\n",
              "      <th>All_the_Words</th>\n",
              "    </tr>\n",
              "  </thead>\n",
              "  <tbody>\n",
              "    <tr>\n",
              "      <th>0</th>\n",
              "      <td>From:</td>\n",
              "    </tr>\n",
              "    <tr>\n",
              "      <th>1</th>\n",
              "      <td>Moskowitz,</td>\n",
              "    </tr>\n",
              "    <tr>\n",
              "      <th>2</th>\n",
              "      <td>Seth</td>\n",
              "    </tr>\n",
              "    <tr>\n",
              "      <th>3</th>\n",
              "      <td>Coggins,</td>\n",
              "    </tr>\n",
              "    <tr>\n",
              "      <th>4</th>\n",
              "      <td>Chris</td>\n",
              "    </tr>\n",
              "    <tr>\n",
              "      <th>5</th>\n",
              "      <td>CC:</td>\n",
              "    </tr>\n",
              "    <tr>\n",
              "      <th>6</th>\n",
              "      <td>BCC :</td>\n",
              "    </tr>\n",
              "    <tr>\n",
              "      <th>7</th>\n",
              "      <td>Subject :</td>\n",
              "    </tr>\n",
              "    <tr>\n",
              "      <th>8</th>\n",
              "      <td>Jane</td>\n",
              "    </tr>\n",
              "    <tr>\n",
              "      <th>9</th>\n",
              "      <td>Brody</td>\n",
              "    </tr>\n",
              "    <tr>\n",
              "      <th>10</th>\n",
              "      <td>Articles</td>\n",
              "    </tr>\n",
              "    <tr>\n",
              "      <th>11</th>\n",
              "      <td>Primary</td>\n",
              "    </tr>\n",
              "    <tr>\n",
              "      <th>12</th>\n",
              "      <td>Date:</td>\n",
              "    </tr>\n",
              "    <tr>\n",
              "      <th>13</th>\n",
              "      <td>9/19/1995</td>\n",
              "    </tr>\n",
              "    <tr>\n",
              "      <th>14</th>\n",
              "      <td>1:06: 48</td>\n",
              "    </tr>\n",
              "    <tr>\n",
              "      <th>15</th>\n",
              "      <td>PM</td>\n",
              "    </tr>\n",
              "    <tr>\n",
              "      <th>16</th>\n",
              "      <td>Last</td>\n",
              "    </tr>\n",
              "    <tr>\n",
              "      <th>17</th>\n",
              "      <td>Modifiod Dato;</td>\n",
              "    </tr>\n",
              "    <tr>\n",
              "      <th>18</th>\n",
              "      <td>2001-Nov-21</td>\n",
              "    </tr>\n",
              "    <tr>\n",
              "      <th>19</th>\n",
              "      <td>16:30:11</td>\n",
              "    </tr>\n",
              "    <tr>\n",
              "      <th>20</th>\n",
              "      <td>Last</td>\n",
              "    </tr>\n",
              "    <tr>\n",
              "      <th>21</th>\n",
              "      <td>Touched Date:</td>\n",
              "    </tr>\n",
              "    <tr>\n",
              "      <th>22</th>\n",
              "      <td>Sent</td>\n",
              "    </tr>\n",
              "    <tr>\n",
              "      <th>23</th>\n",
              "      <td>Date:</td>\n",
              "    </tr>\n",
              "    <tr>\n",
              "      <th>24</th>\n",
              "      <td>995-Sep-19 13:06:48</td>\n",
              "    </tr>\n",
              "    <tr>\n",
              "      <th>25</th>\n",
              "      <td>Received DateDate: 1995-Sep-19</td>\n",
              "    </tr>\n",
              "    <tr>\n",
              "      <th>26</th>\n",
              "      <td>13:06:48</td>\n",
              "    </tr>\n",
              "    <tr>\n",
              "      <th>27</th>\n",
              "      <td>Attachment:</td>\n",
              "    </tr>\n",
              "    <tr>\n",
              "      <th>28</th>\n",
              "      <td>09</td>\n",
              "    </tr>\n",
              "    <tr>\n",
              "      <th>29</th>\n",
              "      <td>@0c</td>\n",
              "    </tr>\n",
              "    <tr>\n",
              "      <th>30</th>\n",
              "      <td>Chris</td>\n",
              "    </tr>\n",
              "    <tr>\n",
              "      <th>31</th>\n",
              "      <td>Atzached</td>\n",
              "    </tr>\n",
              "    <tr>\n",
              "      <th>32</th>\n",
              "      <td>are</td>\n",
              "    </tr>\n",
              "    <tr>\n",
              "      <th>33</th>\n",
              "      <td>the</td>\n",
              "    </tr>\n",
              "    <tr>\n",
              "      <th>34</th>\n",
              "      <td>Jane Brody</td>\n",
              "    </tr>\n",
              "    <tr>\n",
              "      <th>35</th>\n",
              "      <td>ETS</td>\n",
              "    </tr>\n",
              "    <tr>\n",
              "      <th>36</th>\n",
              "      <td>articles Barry Miller</td>\n",
              "    </tr>\n",
              "    <tr>\n",
              "      <th>37</th>\n",
              "      <td>pulled</td>\n",
              "    </tr>\n",
              "    <tr>\n",
              "      <th>38</th>\n",
              "      <td>Seh</td>\n",
              "    </tr>\n",
              "    <tr>\n",
              "      <th>39</th>\n",
              "      <td>8</td>\n",
              "    </tr>\n",
              "    <tr>\n",
              "      <th>40</th>\n",
              "      <td>2</td>\n",
              "    </tr>\n",
              "    <tr>\n",
              "      <th>41</th>\n",
              "      <td>RJROOO0000545011941</td>\n",
              "    </tr>\n",
              "    <tr>\n",
              "      <th>42</th>\n",
              "      <td>70056 2517</td>\n",
              "    </tr>\n",
              "    <tr>\n",
              "      <th>43</th>\n",
              "      <td>9SKR</td>\n",
              "    </tr>\n",
              "  </tbody>\n",
              "</table>\n",
              "</div>\n",
              "      <button class=\"colab-df-convert\" onclick=\"convertToInteractive('df-b67aeb44-d23c-41bc-9c78-262b40c63d62')\"\n",
              "              title=\"Convert this dataframe to an interactive table.\"\n",
              "              style=\"display:none;\">\n",
              "        \n",
              "  <svg xmlns=\"http://www.w3.org/2000/svg\" height=\"24px\"viewBox=\"0 0 24 24\"\n",
              "       width=\"24px\">\n",
              "    <path d=\"M0 0h24v24H0V0z\" fill=\"none\"/>\n",
              "    <path d=\"M18.56 5.44l.94 2.06.94-2.06 2.06-.94-2.06-.94-.94-2.06-.94 2.06-2.06.94zm-11 1L8.5 8.5l.94-2.06 2.06-.94-2.06-.94L8.5 2.5l-.94 2.06-2.06.94zm10 10l.94 2.06.94-2.06 2.06-.94-2.06-.94-.94-2.06-.94 2.06-2.06.94z\"/><path d=\"M17.41 7.96l-1.37-1.37c-.4-.4-.92-.59-1.43-.59-.52 0-1.04.2-1.43.59L10.3 9.45l-7.72 7.72c-.78.78-.78 2.05 0 2.83L4 21.41c.39.39.9.59 1.41.59.51 0 1.02-.2 1.41-.59l7.78-7.78 2.81-2.81c.8-.78.8-2.07 0-2.86zM5.41 20L4 18.59l7.72-7.72 1.47 1.35L5.41 20z\"/>\n",
              "  </svg>\n",
              "      </button>\n",
              "      \n",
              "  <style>\n",
              "    .colab-df-container {\n",
              "      display:flex;\n",
              "      flex-wrap:wrap;\n",
              "      gap: 12px;\n",
              "    }\n",
              "\n",
              "    .colab-df-convert {\n",
              "      background-color: #E8F0FE;\n",
              "      border: none;\n",
              "      border-radius: 50%;\n",
              "      cursor: pointer;\n",
              "      display: none;\n",
              "      fill: #1967D2;\n",
              "      height: 32px;\n",
              "      padding: 0 0 0 0;\n",
              "      width: 32px;\n",
              "    }\n",
              "\n",
              "    .colab-df-convert:hover {\n",
              "      background-color: #E2EBFA;\n",
              "      box-shadow: 0px 1px 2px rgba(60, 64, 67, 0.3), 0px 1px 3px 1px rgba(60, 64, 67, 0.15);\n",
              "      fill: #174EA6;\n",
              "    }\n",
              "\n",
              "    [theme=dark] .colab-df-convert {\n",
              "      background-color: #3B4455;\n",
              "      fill: #D2E3FC;\n",
              "    }\n",
              "\n",
              "    [theme=dark] .colab-df-convert:hover {\n",
              "      background-color: #434B5C;\n",
              "      box-shadow: 0px 1px 3px 1px rgba(0, 0, 0, 0.15);\n",
              "      filter: drop-shadow(0px 1px 2px rgba(0, 0, 0, 0.3));\n",
              "      fill: #FFFFFF;\n",
              "    }\n",
              "  </style>\n",
              "\n",
              "      <script>\n",
              "        const buttonEl =\n",
              "          document.querySelector('#df-b67aeb44-d23c-41bc-9c78-262b40c63d62 button.colab-df-convert');\n",
              "        buttonEl.style.display =\n",
              "          google.colab.kernel.accessAllowed ? 'block' : 'none';\n",
              "\n",
              "        async function convertToInteractive(key) {\n",
              "          const element = document.querySelector('#df-b67aeb44-d23c-41bc-9c78-262b40c63d62');\n",
              "          const dataTable =\n",
              "            await google.colab.kernel.invokeFunction('convertToInteractive',\n",
              "                                                     [key], {});\n",
              "          if (!dataTable) return;\n",
              "\n",
              "          const docLinkHtml = 'Like what you see? Visit the ' +\n",
              "            '<a target=\"_blank\" href=https://colab.research.google.com/notebooks/data_table.ipynb>data table notebook</a>'\n",
              "            + ' to learn more about interactive tables.';\n",
              "          element.innerHTML = '';\n",
              "          dataTable['output_type'] = 'display_data';\n",
              "          await google.colab.output.renderOutput(dataTable, element);\n",
              "          const docLink = document.createElement('div');\n",
              "          docLink.innerHTML = docLinkHtml;\n",
              "          element.appendChild(docLink);\n",
              "        }\n",
              "      </script>\n",
              "    </div>\n",
              "  </div>\n",
              "  "
            ]
          },
          "metadata": {},
          "execution_count": 22
        }
      ]
    },
    {
      "cell_type": "code",
      "source": [
        "print(type(df))"
      ],
      "metadata": {
        "colab": {
          "base_uri": "https://localhost:8080/"
        },
        "id": "JS-HWZLwiJ_y",
        "outputId": "a81f8f5f-7619-47ad-be47-6a8c743be27a"
      },
      "execution_count": 30,
      "outputs": [
        {
          "output_type": "stream",
          "name": "stdout",
          "text": [
            "<class 'pandas.core.frame.DataFrame'>\n"
          ]
        }
      ]
    },
    {
      "cell_type": "code",
      "source": [
        "from google.colab import files"
      ],
      "metadata": {
        "id": "bUKnBqmjmZ62"
      },
      "execution_count": 20,
      "outputs": []
    },
    {
      "cell_type": "code",
      "source": [
        "df.to_csv('table1.csv', encoding = 'utf-8-sig')\n",
        "files.download('table1.csv')"
      ],
      "metadata": {
        "colab": {
          "base_uri": "https://localhost:8080/",
          "height": 17
        },
        "id": "YC9VpXJAii-P",
        "outputId": "76d0ce5a-7ecf-4942-9ab6-7a841e57fecd"
      },
      "execution_count": 21,
      "outputs": [
        {
          "output_type": "display_data",
          "data": {
            "text/plain": [
              "<IPython.core.display.Javascript object>"
            ],
            "application/javascript": [
              "\n",
              "    async function download(id, filename, size) {\n",
              "      if (!google.colab.kernel.accessAllowed) {\n",
              "        return;\n",
              "      }\n",
              "      const div = document.createElement('div');\n",
              "      const label = document.createElement('label');\n",
              "      label.textContent = `Downloading \"${filename}\": `;\n",
              "      div.appendChild(label);\n",
              "      const progress = document.createElement('progress');\n",
              "      progress.max = size;\n",
              "      div.appendChild(progress);\n",
              "      document.body.appendChild(div);\n",
              "\n",
              "      const buffers = [];\n",
              "      let downloaded = 0;\n",
              "\n",
              "      const channel = await google.colab.kernel.comms.open(id);\n",
              "      // Send a message to notify the kernel that we're ready.\n",
              "      channel.send({})\n",
              "\n",
              "      for await (const message of channel.messages) {\n",
              "        // Send a message to notify the kernel that we're ready.\n",
              "        channel.send({})\n",
              "        if (message.buffers) {\n",
              "          for (const buffer of message.buffers) {\n",
              "            buffers.push(buffer);\n",
              "            downloaded += buffer.byteLength;\n",
              "            progress.value = downloaded;\n",
              "          }\n",
              "        }\n",
              "      }\n",
              "      const blob = new Blob(buffers, {type: 'application/binary'});\n",
              "      const a = document.createElement('a');\n",
              "      a.href = window.URL.createObjectURL(blob);\n",
              "      a.download = filename;\n",
              "      div.appendChild(a);\n",
              "      a.click();\n",
              "      div.remove();\n",
              "    }\n",
              "  "
            ]
          },
          "metadata": {}
        },
        {
          "output_type": "display_data",
          "data": {
            "text/plain": [
              "<IPython.core.display.Javascript object>"
            ],
            "application/javascript": [
              "download(\"download_6a3a4d27-fc52-45b8-845e-3306bea58d9e\", \"table1.csv\", 518)"
            ]
          },
          "metadata": {}
        }
      ]
    },
    {
      "cell_type": "code",
      "source": [],
      "metadata": {
        "id": "BiuX2_3zkusj"
      },
      "execution_count": null,
      "outputs": []
    }
  ]
}